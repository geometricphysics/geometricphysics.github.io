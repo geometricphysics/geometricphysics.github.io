{
 "metadata": {
  "name": "Celestial Mechanics"
 },
 "nbformat": 3,
 "nbformat_minor": 0,
 "worksheets": [
  {
   "cells": [
    {
     "cell_type": "heading",
     "level": 1,
     "metadata": {},
     "source": [
      "Celestial Mechanics"
     ]
    },
    {
     "cell_type": "heading",
     "level": 3,
     "metadata": {},
     "source": [
      "Conic Sections"
     ]
    },
    {
     "cell_type": "heading",
     "level": 3,
     "metadata": {},
     "source": [
      "Kepler's Laws"
     ]
    },
    {
     "cell_type": "heading",
     "level": 5,
     "metadata": {},
     "source": [
      "First Law"
     ]
    },
    {
     "cell_type": "markdown",
     "metadata": {},
     "source": [
      "The orbit of every planet is an ellipse with the sun at one of the foci."
     ]
    },
    {
     "cell_type": "heading",
     "level": 5,
     "metadata": {},
     "source": [
      "Second Law"
     ]
    },
    {
     "cell_type": "markdown",
     "metadata": {},
     "source": [
      "A line joining a planet and the sun sweeps out equal areas in equal intervals of time."
     ]
    },
    {
     "cell_type": "heading",
     "level": 5,
     "metadata": {},
     "source": [
      "Third Law"
     ]
    },
    {
     "cell_type": "markdown",
     "metadata": {},
     "source": [
      "The squares of the orbital periods of the planets is proportial to the cubes of the semi-major axis of the orbits.\n",
      "\n",
      "$T^2 \\propto r^3$."
     ]
    },
    {
     "cell_type": "code",
     "collapsed": false,
     "input": [
      "a =1\n",
      "b = 2\n",
      "print a + b"
     ],
     "language": "python",
     "metadata": {},
     "outputs": [
      {
       "output_type": "stream",
       "stream": "stdout",
       "text": [
        "3\n"
       ]
      }
     ],
     "prompt_number": 1
    },
    {
     "cell_type": "heading",
     "level": 3,
     "metadata": {},
     "source": [
      "Celestial Coordinate Systems"
     ]
    },
    {
     "cell_type": "heading",
     "level": 3,
     "metadata": {},
     "source": [
      "Gauss and the orbit of Ceres"
     ]
    }
   ],
   "metadata": {}
  }
 ]
}