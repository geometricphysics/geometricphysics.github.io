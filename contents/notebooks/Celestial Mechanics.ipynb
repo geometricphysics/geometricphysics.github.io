{
 "metadata": {
  "name": "Celestial Mechanics"
 },
 "nbformat": 3,
 "nbformat_minor": 0,
 "worksheets": [
  {
   "cells": [
    {
     "cell_type": "heading",
     "level": 1,
     "metadata": {},
     "source": [
      "Celestial Mechanics"
     ]
    },
    {
     "cell_type": "heading",
     "level": 3,
     "metadata": {},
     "source": [
      "Conic Sections"
     ]
    },
    {
     "cell_type": "heading",
     "level": 3,
     "metadata": {},
     "source": [
      "Kepler's Laws"
     ]
    },
    {
     "cell_type": "heading",
     "level": 5,
     "metadata": {},
     "source": [
      "First Law"
     ]
    },
    {
     "cell_type": "markdown",
     "metadata": {},
     "source": [
      "The orbit of every planet is an ellipse with the sun at one of the foci."
     ]
    },
    {
     "cell_type": "heading",
     "level": 5,
     "metadata": {},
     "source": [
      "Second Law"
     ]
    },
    {
     "cell_type": "markdown",
     "metadata": {},
     "source": [
      "A line joining a planet and the sun sweeps out equal areas in equal intervals of time."
     ]
    },
    {
     "cell_type": "heading",
     "level": 5,
     "metadata": {},
     "source": [
      "Third Law"
     ]
    },
    {
     "cell_type": "markdown",
     "metadata": {},
     "source": [
      "The squares of the orbital periods of the planets is proportial to the cubes of the semi-major axis of the orbits. "
     ]
    },
    {
     "cell_type": "heading",
     "level": 3,
     "metadata": {},
     "source": [
      "Celestial Coordinate Systems"
     ]
    },
    {
     "cell_type": "heading",
     "level": 3,
     "metadata": {},
     "source": [
      "Gauss and the orbit of Ceres"
     ]
    }
   ],
   "metadata": {}
  }
 ]
}